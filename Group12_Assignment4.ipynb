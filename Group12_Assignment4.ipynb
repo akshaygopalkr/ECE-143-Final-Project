{
 "cells": [
  {
   "cell_type": "markdown",
   "metadata": {},
   "source": [
    "# Bitstring Question 1 \n",
    "Given a number of bits, write the get_sample function to return a list n of random samples from a finite probability mass function defined by a dictionary with keys defined by a specified number of bits. \n",
    "\n",
    "For example, given 3 bits, we have the following dictionary that defines the probability of each of the keys. \n",
    "\n",
    "The values of the dictionary correspond of the probability of drawing any one of these. For example, if all of these were equally likely, then here is the corresponding dictionary p,\n",
    "\n",
    " p={'000': 0.125, \n",
    " '001': 0.125, \n",
    " '010': 0.125, \n",
    " '011': 0.125, \n",
    " '100': 0.125, \n",
    " '101': 0.125, \n",
    " '110': 0.125, \n",
    " '111': 0.125} \n",
    " \n",
    "Your get_sample function should return something like the following,\n",
    "\n",
    "get_sample(nbits=3,prob=p,n=4)\n",
    "\n",
    "['101', '000', '001', '100'] "
   ]
  },
  {
   "cell_type": "markdown",
   "metadata": {},
   "source": [
    "**Validation Tests** <br>\n",
    "Check for corner cases and constraints in the inputs enlist all cases used for testing\n"
   ]
  },
  {
   "cell_type": "code",
   "execution_count": null,
   "metadata": {},
   "outputs": [],
   "source": [
    "# Make sure that the number of bits and n is an integer\n",
    "assert isinstance(nbits, int), \"nbits must be an int\"\n",
    "assert isinstance(n, int), \"n must be an int\"\n",
    "\n",
    "# The prob dictionary must have all the binary codes represented by the number of bits possible\n",
    "assert len(prob) == 2 ** nbits, \"length of prob must be equal to 2^nbits\"\n",
    "\n",
    "# Makes sure prob is defined and is a dictionary\n",
    "assert prob is None or isinstance(prob, dict), \"prob must be None or dict\"\n",
    "\n",
    "# Check that the keys of prob are all binary numbers and that all the values are floats/ints\n",
    "assert all([bitstring.count('0') + bitstring.count('1') == len(bitstring) for bitstring in list(prob.keys())]), \"prob keys must be binary\"\n",
    "assert all(isinstance(num, (float, int)) for num in list(prob.values())), \"values must be floats\""
   ]
  },
  {
   "cell_type": "markdown",
   "metadata": {},
   "source": [
    "**Functional Tests** <br>\n",
    "Check function output matches expected result enlist all cases used for testing"
   ]
  },
  {
   "cell_type": "code",
   "execution_count": null,
   "metadata": {},
   "outputs": [],
   "source": [
    "p={'000': 0.125, '001': 0.125, '010': 0.125, '011': 0.125, '100': 0.125, '101': 0.125, '110': 0.125, '111': 0.125}\n",
    "nbits = 3\n",
    "n = 4\n",
    "actual = get_sample(nbits, p, n)\n",
    "assert isinstance(actual, list) and len(actual) == n\n",
    "assert all(isinstance(key, str) and key.isidigit() for key in actual)\n",
    "for element in actual:\n",
    "    assert all(c in \"01\" for c in element)"
   ]
  },
  {
   "cell_type": "code",
   "execution_count": null,
   "metadata": {},
   "outputs": [],
   "source": [
    "p={'000': 0.125, '001': 0.125, '010': 0.125, '011': 0.125, '100': 0.125, '101': 0.125, '110': 0.125, '111': 0.125}\n",
    "nbits = 3\n",
    "n = 10\n",
    "actual = get_sample(nbits, p, n)\n",
    "assert isinstance(actual, list) and len(actual) == n\n",
    "assert all(isinstance(key, str) and key.isidigit() for key in actual)\n",
    "for element in actual:\n",
    "    assert all(c in \"01\" for c in element)"
   ]
  },
  {
   "cell_type": "code",
   "execution_count": null,
   "metadata": {},
   "outputs": [],
   "source": [
    "p=None\n",
    "nbits = 3\n",
    "n = 10\n",
    "actual = get_sample(nbits, p, n)\n",
    "assert isinstance(actual, list) and len(actual) == n\n",
    "assert all(isinstance(key, str) and key.isidigit() for key in actual)\n",
    "for element in actual:\n",
    "    assert all(c in \"01\" for c in element)"
   ]
  },
  {
   "cell_type": "code",
   "execution_count": null,
   "metadata": {},
   "outputs": [],
   "source": [
    "p={'000': 0.1, '001': 0.1, '010': 0.15, '011': 0.15, '100': 0.2, '101': 0.05, '110': 0.05, '111': 0.2}\n",
    "nbits = 3\n",
    "n = 10\n",
    "actual = get_sample(nbits, p, n)\n",
    "assert isinstance(actual, list) and len(actual) == n\n",
    "assert all(isinstance(key, str) and key.isidigit() for key in actual)\n",
    "for element in actual:\n",
    "    assert all(c in \"01\" for c in element)"
   ]
  },
  {
   "cell_type": "markdown",
   "metadata": {},
   "source": [
    "# Bitstring Question 2 \n",
    "Write a function map_bitstring that takes a list of bitstrings (i.e., 0101) and maps each bitstring to 0 if the number of 0s in the bitstring strictly exceeds the number of 1s. Otherwise, map that bitstring to 1. The output of your function is a dictionary of the so-described key-value pairs.\n",
    "\n",
    "\n",
    "Here is an example:\n",
    "\n",
    "\n",
    "x= ['100', '100', '110', '010', '111', '000', '110', '010', '011', '000']\n",
    "\n",
    "map_bitstring(x)\n",
    "\n",
    "{'100': 0, '110': 1, '010': 0, '111': 1, '000': 0, '011': 1} "
   ]
  },
  {
   "cell_type": "markdown",
   "metadata": {},
   "source": [
    "**Validation Tests** <br>\n",
    "Check for corner cases and constraints in the inputs enlist all cases used for testing"
   ]
  },
  {
   "cell_type": "code",
   "execution_count": null,
   "metadata": {},
   "outputs": [],
   "source": [
    "assert isinstance(x, list), \"x must be a list\"\n",
    "for lst in list:\n",
    "    assert isinstance(lst, str), \"the elements in x must be strings\"\n",
    "    assert lst.isdigit(), \"each string in x must be a digit\"\n",
    "    for l in lst:\n",
    "        assert int(l) is 1 or 0, \"list elements must be bitstrings\""
   ]
  },
  {
   "cell_type": "markdown",
   "metadata": {},
   "source": [
    "**Functional Tests** <br>\n",
    "Check function output matches expected result enlist all cases used for testing"
   ]
  },
  {
   "cell_type": "code",
   "execution_count": null,
   "metadata": {},
   "outputs": [],
   "source": [
    "x = ['10','01','00']\n",
    "assert d == {'10':1, '01':1, '00':0}, \"functionality check for 2 bit elements\"\n",
    "\n",
    "x = ['1010','1111','1101','1110','1010']\n",
    "assert d == {'1010':1, '1111':1, '1101':1, '1110': 1}, \"functionality check for 4 bit elements\"\n",
    "\n",
    "x = ['101','001','010','110','000','111']\n",
    "assert d == {'101':1, '001':0, '010':0, '110':1, '000':0, '111':1}, \"functionality check for 3 bit elements\"\n",
    "\n",
    "x = ['0','1']\n",
    "assert d == {'0':0, '1':1}, \"functionality check for 1 bit elements\""
   ]
  },
  {
   "cell_type": "markdown",
   "metadata": {},
   "source": [
    "# Birstring Question 3\n",
    "Now that you have get_sample working, generate n samples and tally the number of times an existing key is repeated. Generate a new dictionary with bitstrings as keys and with values as lists that contain the corresponding mapped values from map_bitstring. Here is an example for n=20,\n",
    "\n",
    "x=get_sample(nbits=2,prob={'00':1/4,'01':1/4,'10':1/4,'11':1/4},n=20)\n",
    "print(x)\n",
    "\n",
    "['10', '11', '01', '00', '10', '00', '00', '11', '10', '00', '00', '01', '01', '11', '10', '00', '11', '10', '11', '11']\n",
    "\n",
    "Write a function gather_values that can produce the following output from x:\n",
    "{'10': [1, 1, 1, 1, 1],\n",
    " '11': [1, 1, 1, 1, 1, 1],       \n",
    " '01': [1, 1, 1],                \n",
    " '00': [0, 0, 0, 0, 0, 0]}   "
   ]
  },
  {
   "cell_type": "markdown",
   "metadata": {},
   "source": [
    "#### Validation Tests\n",
    "Check for corner cases and constraints in the inputs enlist all cases used for testing"
   ]
  },
  {
   "cell_type": "code",
   "execution_count": null,
   "metadata": {},
   "outputs": [],
   "source": [
    "assert isinstance(x, list), \"x must be a list\"\n",
    "for i in x:\n",
    "    n = range(len(i))\n",
    "    for j in n:\n",
    "        assert i[j] == '0' or i[j] == '1', \"list element must be a bitstring\""
   ]
  },
  {
   "cell_type": "markdown",
   "metadata": {},
   "source": [
    "**Functional Tests** <br>\n",
    "Check function output matches expected result enlist all cases used for testing"
   ]
  },
  {
   "cell_type": "code",
   "execution_count": null,
   "metadata": {},
   "outputs": [],
   "source": [
    "x = ['10', '10', '01', '00', '10', '00', '00', '11', '10', '00', '00', '01', '01', '11', '10', '00', '11', '10', '11', '11']\n",
    "assert gather_values(x) == {'10': [1, 1, 1, 1, 1, 1], '11': [1, 1, 1, 1, 1], '01': [1, 1, 1], '00': [0, 0, 0, 0, 0, 0]}, \"checking the default case given in the problem, i.e. two bit values\""
   ]
  },
  {
   "cell_type": "code",
   "execution_count": null,
   "metadata": {},
   "outputs": [],
   "source": [
    "x = ['0', '0', '0', '1', '1']\n",
    "assert gather_values(x) == {'0': [0, 0, 0], '1' : [1,1]}, \"checking the case in which x is composed of 1 bit bit_strings\""
   ]
  },
  {
   "cell_type": "code",
   "execution_count": null,
   "metadata": {},
   "outputs": [],
   "source": [
    "x = ['000', '000', '000', '001', '010', '011', '100', '101', '101']\n",
    "assert gather_values(x) == {'000': [0, 0, 0], '001': [0], '010': [0], '011': [1], '100': [0], '101': [1,1]}, \"checking the case in which x is composed of 3 bit bit_strings\""
   ]
  },
  {
   "cell_type": "markdown",
   "metadata": {},
   "source": [
    "# Bitstring part 4\n",
    "From gather_values, we can group the results of the random samples. Now, we want to threshold those values based upon their frequency and value. Given threshold=2, we want to keep only those bitstrings with the two highest frequency counts of the 1 value. For example, as before we have,\n",
    "\n",
    "\n",
    "x=['10', '11', '01', '00', '10', '00', '00', '11', '10', '00', '00', '01', '01', '11', '10', '00', '11', '10', '11', '11'] \n",
    "according to our last result, we had\n",
    "\n",
    "\n",
    "{'10': [1, 1, 1, 1, 1],\n",
    "'11': [1, 1, 1, 1, 1, 1],  \n",
    " '01': [1, 1, 1],  \n",
    "'00': [0, 0, 0, 0, 0, 0]}  \n",
    " \n",
    "\n",
    "But because the threshold=2, we only want to keep the bitstrings with the two most frequent 1s and set all of the rest to 0. In this case, this is 10 and 11 with the following output:\n",
    "\n",
    "{'10': 1,\n",
    "  '11': 1,  \n",
    "  '01': 0,  \n",
    " '00': 0}  \n",
    " \n",
    "\n",
    "Note that 01 corresponding value was set to 0 because it did not have the top two most frequent values of 1. If there is a tie, then use the smallest value the tied bitstrings to pick the winner. Here is a more detailed example:\n",
    "\n",
    "seq= ['1111', '0110', '1001', '0011', '0111', '0100', '0111', '1100', '0011', '0010', '0010', '1010', '1010', '1100', '0110', '0101', '0110', '1111', '1001', '0110', '0010', '1101', '0101', '0010', '0100', '0010', '0000', '0000', '0011', '0110', '0101', '1010', '1011', '1101', '1100', '0111', '1110', '0100', '0110', '1101', '0001', '1110', '0010', '0001', '1010', '1010', '0011', '1000', '0010', '0000', '1010', '1101', '1111', '1000', '1000', '0010', '1010', '0101', '0101', '1101', '0110', '1001', '1100', '1100', '1000', '1010', '0011', '0101', '0101', '0011', '0001', '1010', '0011', '0011', '1101', '1010', '0101', '0011', '1011', '0101', '0000', '1111', '1001', '0101', '1100', '0011', '1111', '1101', '0001', '1111', '1110', '1111', '0001', '0010', '0110', '0100', '0101', '1100', '1110', '1001'] \n",
    " \n",
    "With corresponding output from threshold_values,\n",
    "\n",
    "\n",
    ">>> threshold_values(seq,3) \n",
    " {'0000': 0, '0001': 0, '0010': 0, '0011': 1, '0100': 0, '0101': 1, '0110': 0, '0111': 0, '1000': 0, '1001': 0, '1010': 1, '1011': 0, '1100': 0, '1101': 0, '1110': 0, '1111': 0} \n",
    "Your function signature is threshold_values(seq,threshold=1). Please keep the default values as given in the function signature.\n",
    "\n",
    "Please put your Python code in a Python script file and upload it. Please retain your submitted source files! Remember to use all the best practices we discussed in class. You can use any module in the Python standard library, but third-party modules (e.g., Numpy, Pandas) are restricted to those explicitly mentioned in the problem description.\n",
    "\n",
    "After you have submitted your file, do not use the browser back or reload buttons to navigate or open the page in multiple browser tabs, as this may cause your attempts to decrease unexpectedly. It may take up to thirty seconds for your code to be processed, so please be patient.\n",
    "\n",
    "Good luck!"
   ]
  },
  {
   "cell_type": "markdown",
   "metadata": {},
   "source": [
    "**Validation Tests** <br>\n",
    "Check for corner cases and constraints in the inputs enlist all cases used for testing"
   ]
  },
  {
   "cell_type": "code",
   "execution_count": null,
   "metadata": {},
   "outputs": [],
   "source": [
    "assert (threshold, int), \"threshold must be an integer\"\n",
    "assert (seq, list), \"seq must be a list\"\n",
    "assert (threshold >= 0), \"threshold must be non-negative\"\n",
    "for key in seq:\n",
    "    assert isinstance(key, str), \"key must be a string\"\n",
    "    for k in key:\n",
    "        assert (int(k) is 0 or 1), \"keys must be bitstrings\"\n"
   ]
  },
  {
   "cell_type": "markdown",
   "metadata": {},
   "source": [
    "**Functional Tests** <br>\n",
    "Check function output matches expected result enlist all cases used for testing"
   ]
  },
  {
   "cell_type": "code",
   "execution_count": null,
   "metadata": {},
   "outputs": [],
   "source": [
    "seq= ['1111', '0110', '1001', '0011', '0111', '0100', '0111', '1100', '0011', '0010', '0010', '1010', '1010', '1100', '0110', '0101', '0110', '1111', '1001', '0110', '0010', '1101', '0101', '0010', '0100', '0010', '0000', '0000', '0011', '0110', '0101', '1010', '1011', '1101', '1100', '0111', '1110', '0100', '0110', '1101', '0001', '1110', '0010', '0001', '1010', '1010', '0011', '1000', '0010', '0000', '1010', '1101', '1111', '1000', '1000', '0010', '1010', '0101', '0101', '1101', '0110', '1001', '1100', '1100', '1000', '1010', '0011', '0101', '0101', '0011', '0001', '1010', '0011', '0011', '1101', '1010', '0101', '0011', '1011', '0101', '0000', '1111', '1001', '0101', '1100', '0011', '1111', '1101', '0001', '1111', '1110', '1111', '0001', '0010', '0110', '0100', '0101', '1100', '1110', '1001'] \n",
    "assert {'0000': 0, '0001': 0, '0010': 0, '0011': 1, '0100': 0, '0101': 1, '0110': 0, '0111': 0, '1000': 0, '1001': 0, '1010': 1, '1011': 0, '1100': 0, '1101': 0, '1110': 0, '1111': 0}  == threshold_value(seq, threshold = 3), \"functional test for 4 bits, 3 threshold\""
   ]
  },
  {
   "cell_type": "code",
   "execution_count": null,
   "metadata": {},
   "outputs": [],
   "source": [
    "seq = ['0110', '0110', '0111', '0101', '0110', '1101', '0110', '1010', '1000', '1100', '0001', '0001', '1111', '0011', '0000', '1100', '1100', '0001', '1000', '1110']\n",
    "assert {'0001': 0, '0010': 0, '0000': 0, '0011': 0, '1001': 0, '1101': 0, '1010': 1, '1011': 1, '0110': 1, '1100': 1} == threshold_value(seq, threshold = 4), \"functional test for 4 bits, 4 threshold\""
   ]
  },
  {
   "cell_type": "markdown",
   "metadata": {},
   "source": [
    "# Descrambler Test Cases\n",
    "Sequential Descrambler\n",
    "You are given a sequence of `n` lower-case letters and a `k`-tuple of integers that indicate partition-lengths of the sequence. Also, you have a dictionary of commonly used **words**. The `n` letters represent a phrase of `k` words where the length of the jth word is the jth element of the tuple.\n",
    "\n",
    "Here is an example: `w = 'trleeohelh'` , `k=(5,5)`. Your generator `descrambler(w,k)` should iteratively yield the output `['hello three','three hello','hello there','there hello']`. Note that because both words have `5` characters, it is not possible to definitively know the order of the phrase.\n",
    "Here are more interesting examples:\n",
    "\n",
    "            >>> list(descrambler('choeounokeoitg',(3,5,6)))`\n",
    "            ['one tough cookie',`\n",
    "             'one ought cookie',`\n",
    "             'neo tough cookie',`\n",
    "             'neo ought cookie']`\n",
    "            >>> list(descrambler('qeodwnsciseuesincereins',(4,7,12)))`\n",
    "            ['wise insider consequences']`\n",
    " \n",
    "Hints\n",
    "* Use a hash-map to process the input file of valid words\n",
    "* The order of the strings in the output sequence is irrelevent.\n",
    "* Within each output string, the order of words should follow the sequence of word-lengths in k.\n",
    "* Use itertools.\n",
    "* The autograder may time out if your solution is too slow.\n",
    "* The word list above is in a file /tmp/google-10000-english-no-swears.txt on the autograder."
   ]
  },
  {
   "cell_type": "markdown",
   "metadata": {},
   "source": [
    "**Input Validation Tests**"
   ]
  },
  {
   "cell_type": "code",
   "execution_count": null,
   "metadata": {},
   "outputs": [],
   "source": [
    "# Make sure the word is a string of only alphabetical characters\n",
    "assert isinstance(w,str) and all([char.isalpha() and char.islower() for char in w]), \"w must be a string of lowercase letters\"\n",
    "\n",
    "# Make sure k is a tuple of only integers\n",
    "assert isinstance(k, tuple) and all([isinstance(num, int) for num in list(k)]), \"k must be a tuple of integers\"\n",
    "\n",
    "# Make sure that the sum of the integers in k is equal to the length of the word\n",
    "# So we create phrases that have the same word length as w\n",
    "assert len(w) == sum(k), \"sum of k must be equal to length\""
   ]
  },
  {
   "cell_type": "markdown",
   "metadata": {},
   "source": [
    "**Output Validation Tests**"
   ]
  },
  {
   "cell_type": "code",
   "execution_count": null,
   "metadata": {},
   "outputs": [],
   "source": [
    "# Since we don't care about the order each phrase is generated we can convert them to sets\n",
    "# so we can examine if the output and correct answer match \n",
    "\n",
    "test1 = set(['soup blow', 'soup bowl', 'blow soup', 'bowl soup', 'pubs wool', 'wool pubs'])\n",
    "assert test1 == set(list(descrambler('owlbpous', (4,4)))), \"functional test failed\"\n",
    "\n",
    "test2 = set(['ing healthy directions', 'thy healing directions', 'the english dictionary', 'len highest dictionary', 'len heights dictionary', 'ing healthy discretion', 'thy healing discretion'])\n",
    "assert test2 == set(list(descrambler('eodnlyirnatiiegctshh', (3,7,10)))), \"functional test failed\"\n",
    "\n",
    "test3 = set(['many programs computer', 'many computer programs'])\n",
    "assert test3 = set(list(descrambler('ynmarogpramsputcomer', (4,8,8)))) == set(list(descrambler('pecramorsutpgroammny', (4,8,8)))), \"functional test failed\"\n",
    "\n",
    "test3 = ['scratch']\n",
    "assert test3 == list(descrambler('ratchsc', (7,))), \"functional test failed\"\n",
    "\n",
    "test4 = []\n",
    "assert test4 == list(descrambler('ytrzvb', (3,3))), \"functional test failed\""
   ]
  },
  {
   "cell_type": "code",
   "execution_count": null,
   "metadata": {},
   "outputs": [],
   "source": [
    "# Descrambler Test Cases\n",
    "Sequential Descrambler\n",
    "You are given a sequence of `n` lower-case letters and a `k`-tuple of integers that indicate partition-lengths of the sequence. Also, you have a dictionary of commonly used **words**. The `n` letters represent a phrase of `k` words where the length of the jth word is the jth element of the tuple.\n",
    "\n",
    "Here is an example: `w = 'trleeohelh'` , `k=(5,5)`. Your generator `descrambler(w,k)` should iteratively yield the output `['hello three','three hello','hello there','there hello']`. Note that because both words have `5` characters, it is not possible to definitively know the order of the phrase.\n",
    "Here are more interesting examples:\n",
    "\n",
    "            >>> list(descrambler('choeounokeoitg',(3,5,6)))`\n",
    "            ['one tough cookie',`\n",
    "             'one ought cookie',`\n",
    "             'neo tough cookie',`\n",
    "             'neo ought cookie']`\n",
    "            >>> list(descrambler('qeodwnsciseuesincereins',(4,7,12)))`\n",
    "            ['wise insider consequences']`\n",
    " \n",
    "Hints\n",
    "* Use a hash-map to process the input file of valid words\n",
    "* The order of the strings in the output sequence is irrelevent.\n",
    "* Within each output string, the order of words should follow the sequence of word-lengths in k.\n",
    "* Use itertools.\n",
    "* The autograder may time out if your solution is too slow.\n",
    "* The word list above is in a file /tmp/google-10000-english-no-swears.txt on the autograder.\n",
    "\n",
    "**Input Validation Tests**\n",
    "\n",
    "# Make sure the word is a string of only alphabetical characters\n",
    "assert isinstance(w,str) and all([char.isalpha() and char.islower() for char in w]), \"w must be a string of lowercase letters\"\n",
    "\n",
    "# Make sure k is a tuple of only integers\n",
    "assert isinstance(k, tuple) and all([isinstance(num, int) for num in list(k)]), \"k must be a tuple of integers\"\n",
    "\n",
    "# Make sure that the sum of the integers in k is equal to the length of the word\n",
    "# So we create phrases that have the same word length as w\n",
    "assert len(w) == sum(k), \"sum of k must be equal to length\"\n",
    "\n",
    "**Output Validation Tests**\n",
    "\n",
    "# Since we don't care about the order each phrase is generated we can convert them to sets\n",
    "# so we can examine if the output and correct answer match \n",
    "\n",
    "test1 = set(['soup blow', 'soup bowl', 'blow soup', 'bowl soup', 'pubs wool', 'wool pubs'])\n",
    "assert test1 == set(list(descrambler('owlbpous', (4,4)))), \"functional test failed\"\n",
    "\n",
    "test2 = set(['ing healthy directions', 'thy healing directions', 'the english dictionary', 'len highest dictionary', 'len heights dictionary', 'ing healthy discretion', 'thy healing discretion'])\n",
    "assert test2 == set(list(descrambler('eodnlyirnatiiegctshh', (3,7,10)))), \"functional test failed\"\n",
    "\n",
    "test3 = set(['many programs computer', 'many computer programs'])\n",
    "assert test3 = set(list(descrambler('ynmarogpramsputcomer', (4,8,8)))) == set(list(descrambler('pecramorsutpgroammny', (4,8,8)))), \"functional test failed\"\n",
    "\n",
    "test3 = ['scratch']\n",
    "assert test3 == list(descrambler('ratchsc', (7,))), \"functional test failed\"\n",
    "\n",
    "test4 = []\n",
    "assert test4 == list(descrambler('ytrzvb', (3,3))), \"functional test failed\"p={'0000': 0.1, '0001': 0.1, '0010': 0.15, '0011': 0.15, '0100': 0.2, '0101': 0.05, '0110': 0.05, '0111': 0.2, '1000': 0, '1001': 0, '1010': 0, '1011': 0, '1100': 0, '1101': 0, '1110': 0, '1111': 0}\n",
    "nbits = 4\n",
    "n = 10\n",
    "actual = get_sample(nbits, p, n)\n",
    "assert isinstance(actual, list) and len(actual) == n\n",
    "assert all(isinstance(key, str) and key.isidigit() for key in actual)\n",
    "for element in actual:\n",
    "    assert all(c in \"01\" for c in element)"
   ]
  }
 ],
 "metadata": {
  "kernelspec": {
   "display_name": "Python 3",
   "language": "python",
   "name": "python3"
  },
  "language_info": {
   "codemirror_mode": {
    "name": "ipython",
    "version": 3
   },
   "file_extension": ".py",
   "mimetype": "text/x-python",
   "name": "python",
   "nbconvert_exporter": "python",
   "pygments_lexer": "ipython3",
   "version": "3.8.5"
  }
 },
 "nbformat": 4,
 "nbformat_minor": 4
}
